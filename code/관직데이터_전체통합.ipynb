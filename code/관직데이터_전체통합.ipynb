{
 "cells": [
  {
   "cell_type": "code",
   "execution_count": 1,
   "id": "31392fc2",
   "metadata": {},
   "outputs": [
    {
     "name": "stdout",
     "output_type": "stream",
     "text": [
      "생성 파일: C:/Users/rsy08/관직팀 3차 작업/파일전체통합_1230.xlsx\n"
     ]
    }
   ],
   "source": [
    "import pandas as pd\n",
    "from pathlib import Path\n",
    "\n",
    "input_folder = '###/관직팀 3차 작업'  # 원본 데이터 폴더 **경로수정**\n",
    "raw_data_dir = Path(input_folder)\n",
    "excel_files = raw_data_dir.glob('*.xlsx')  # 폴더 내 데이터 파일 이름\n",
    "\n",
    "dfs = []  # DataFrame을 저장할 리스트 생성\n",
    "\n",
    "for excel_file in excel_files:\n",
    "    # 각 엑셀 파일의 데이터 가져오기\n",
    "    df = pd.read_excel(excel_file)\n",
    "    dfs.append(df)  # DataFrame을 리스트에 추가\n",
    "\n",
    "# 생성할 통합 엑셀 파일 경로 지정\n",
    "folder = '###/관직팀 3차 작업'  # 원본 데이터 폴더 **경로수정**\n",
    "merged_excel_file = folder + '/파일전체통합_1230.xlsx'  # 슬래시 추가\n",
    "\n",
    "# 리스트 내 모든 DataFrame을 세로 방향으로 연결하여 새로운 DataFrame 생성\n",
    "total_df = pd.concat(dfs, ignore_index=True)\n",
    "\n",
    "# DataFrame 데이터(total_df)를 생성한 엑셀 객체에 쓰기(옵션 지정)\n",
    "total_df.to_excel(merged_excel_file,  # 엑셀 파일 이름\n",
    "                  sheet_name='파일전체통합',  # 시트 이름 지정\n",
    "                  index=False)  # DataFrame 데이터 index는 출력 안함\n",
    "\n",
    "print(\"생성 파일:\", merged_excel_file)  # 생성한 엑셀 파일 경로\n"
   ]
  },
  {
   "cell_type": "code",
   "execution_count": null,
   "id": "e5b760fc",
   "metadata": {},
   "outputs": [],
   "source": []
  }
 ],
 "metadata": {
  "kernelspec": {
   "display_name": "Python 3 (ipykernel)",
   "language": "python",
   "name": "python3"
  },
  "language_info": {
   "codemirror_mode": {
    "name": "ipython",
    "version": 3
   },
   "file_extension": ".py",
   "mimetype": "text/x-python",
   "name": "python",
   "nbconvert_exporter": "python",
   "pygments_lexer": "ipython3",
   "version": "3.9.13"
  }
 },
 "nbformat": 4,
 "nbformat_minor": 5
}
